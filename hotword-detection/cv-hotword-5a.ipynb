{
 "cells": [
  {
   "cell_type": "code",
   "execution_count": null,
   "metadata": {},
   "outputs": [],
   "source": [
    "import os\n",
    "\n",
    "# Load the transcribed results from the Common Voice dataset\n",
    "transcriptions = {}  # Assuming this dictionary contains the transcriptions with filenames as keys\n",
    "\n",
    "# Define the hot words\n",
    "hot_words = [\"be careful\", \"destroy\", \"stranger\"]\n",
    "\n",
    "# List to store filenames with hot words detected\n",
    "detected_files = []\n",
    "\n",
    "# Iterate through the transcriptions\n",
    "for filename, transcription in transcriptions.items():\n",
    "    # Check if any hot word is present in the transcription\n",
    "    if any(word in transcription.lower() for word in hot_words):\n",
    "        detected_files.append(filename)\n",
    "\n",
    "# Save the list of filenames to detected.txt\n",
    "with open('detected.txt', 'w') as f:\n",
    "    for filename in detected_files:\n",
    "        f.write(f\"{filename}\\n\")"
   ]
  }
 ],
 "metadata": {
  "language_info": {
   "name": "python"
  }
 },
 "nbformat": 4,
 "nbformat_minor": 2
}
