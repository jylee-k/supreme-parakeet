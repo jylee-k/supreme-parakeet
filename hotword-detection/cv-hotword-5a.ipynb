{
 "cells": [
  {
   "cell_type": "code",
   "execution_count": 14,
   "metadata": {},
   "outputs": [],
   "source": [
    "import pandas as pd\n",
    "# Load the transcribed results \n",
    "csv_file = '../asr/cv-valid-dev.csv'\n",
    "df = pd.read_csv(csv_file)"
   ]
  },
  {
   "cell_type": "code",
   "execution_count": 15,
   "metadata": {},
   "outputs": [],
   "source": [
    "# drop unnecessary columns\n",
    "df = df[['filename', 'generated_text']]"
   ]
  },
  {
   "cell_type": "code",
   "execution_count": 16,
   "metadata": {},
   "outputs": [],
   "source": [
    "# this dictionary contains the transcriptions with filenames as keys\n",
    "transcriptions = df.set_index('filename').T.to_dict('records')[0]"
   ]
  },
  {
   "cell_type": "code",
   "execution_count": 17,
   "metadata": {},
   "outputs": [],
   "source": [
    "# Define the hot words\n",
    "hot_words = [\"be careful\", \"destroy\", \"stranger\"]"
   ]
  },
  {
   "cell_type": "code",
   "execution_count": 19,
   "metadata": {},
   "outputs": [],
   "source": [
    "# List to store filenames with hot words detected\n",
    "detected_files = []\n",
    "\n",
    "# Iterate through the transcriptions\n",
    "for filename, transcription in transcriptions.items():\n",
    "    # Check if any hot word is present in the transcription\n",
    "    if any(word in transcription.lower() for word in hot_words):\n",
    "        detected_files.append(filename)"
   ]
  },
  {
   "cell_type": "code",
   "execution_count": null,
   "metadata": {},
   "outputs": [],
   "source": [
    "# Save the list of filenames to detected.txt\n",
    "with open('detected.txt', 'w') as f:\n",
    "    for filename in detected_files:\n",
    "        f.write(f\"{filename}\\n\")"
   ]
  }
 ],
 "metadata": {
  "kernelspec": {
   "display_name": ".venv",
   "language": "python",
   "name": "python3"
  },
  "language_info": {
   "codemirror_mode": {
    "name": "ipython",
    "version": 3
   },
   "file_extension": ".py",
   "mimetype": "text/x-python",
   "name": "python",
   "nbconvert_exporter": "python",
   "pygments_lexer": "ipython3",
   "version": "3.10.14"
  }
 },
 "nbformat": 4,
 "nbformat_minor": 2
}
